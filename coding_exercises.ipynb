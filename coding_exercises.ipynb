{
 "cells": [
  {
   "cell_type": "markdown",
   "id": "ce6e96ec",
   "metadata": {},
   "source": [
    "# Coding Exercises Notebook\n",
    "\n",
    "This notebook is for my AI for the Arts and Humanities course. It will be used to help me understand how Python, Copilot and coding as a whoe work.\n",
    "\n",
    "- Learn basic code in Python\n",
    "- Improve what little coding knowledge I have already\n",
    "- Improve my confidence in coding so I can do it independantly. "
   ]
  },
  {
   "cell_type": "markdown",
   "id": "31550d48",
   "metadata": {},
   "source": [
    "# Hello, World!\n",
    "\n",
    "The following code was created as my first attempt at\n",
    "programming in this course. It is meant to help me understand how to write and run code in GitHub Codespaces."
   ]
  },
  {
   "cell_type": "code",
   "execution_count": 5,
   "id": "a76bb14c",
   "metadata": {},
   "outputs": [
    {
     "name": "stdout",
     "output_type": "stream",
     "text": [
      "Hello, World!\n"
     ]
    }
   ],
   "source": [
    "print(\"Hello, World!\")"
   ]
  },
  {
   "cell_type": "markdown",
   "id": "ccee5ba3",
   "metadata": {},
   "source": [
    "# Printing"
   ]
  },
  {
   "cell_type": "markdown",
   "id": "01a6ad20",
   "metadata": {},
   "source": [
    "## Understanding Code"
   ]
  },
  {
   "cell_type": "markdown",
   "id": "6f3ef94a",
   "metadata": {},
   "source": [
    "#### Variables\n",
    "\n",
    "Initial Prompt:   \n",
    "Could you suggest a modification of the Python code for “Hello, world!” to demonstrate the concept of variables to a complete beginner in programming? Please explain the code step-by-step highlighting any key aspects.  \n",
    "\n",
    "Prompts suggested by Copiliot:   \n",
    "\n"
   ]
  },
  {
   "cell_type": "code",
   "execution_count": 6,
   "id": "0041b2cb",
   "metadata": {},
   "outputs": [
    {
     "name": "stdout",
     "output_type": "stream",
     "text": [
      "Hello, world!\n"
     ]
    }
   ],
   "source": [
    "\n",
    "message = \"Hello, world!\"\n",
    "print(message)\n"
   ]
  },
  {
   "cell_type": "markdown",
   "id": "9bfc8075",
   "metadata": {},
   "source": [
    "Step-by-Step Explanation:   \n",
    "message = \"Hello, world!\": This line of code creates a variable named message and assigns it the string \"Hello, world!\".   \n",
    "\n",
    "Variable: A variable is a name that refers to a value. In this case, message is the variable name.\n",
    "Assignment (=): The = sign is used to assign a value to a variable. Here, the string \"Hello, world!\" is assigned to the variable message.    \n",
    "String: As before, \"Hello, world!\" is a sequence of characters enclosed in quotes.    \n",
    "print(message): This line of code uses the print function to display the value of the message variable.    \n",
    "\n",
    "Function Call: The print function is called with the variable message as its argument.    \n",
    "Variable Usage: Instead of directly printing the string, we print the value stored in the variable message.      \n",
    "Key Aspects:     \n",
    "Variables: Variables allow you to store and reuse values. They make your code more flexible and easier to manage.    \n",
    "Naming: Variable names should be descriptive and follow certain rules. They must start with a letter or underscore (_), and can contain letters, numbers, and underscores. For example, message is a valid variable name.    \n",
    "Reusability: By using variables, you can easily change the value in one place and have it reflected throughout your code. This is useful for managing data and making your code more dynamic.     "
   ]
  },
  {
   "cell_type": "markdown",
   "id": "a57fc7f0",
   "metadata": {},
   "source": [
    "#### Functions    \n",
    "\n",
    "Intial prompt:    \n",
    "Could you suggest a modification of the Python code for “Hello, world!” to demonstrate the concept of functions to a complete beginner in programming Please explain the code step-by-step highlighting any key aspects.    \n",
    "\n",
    "Prompts suggested by Copilot:    "
   ]
  },
  {
   "cell_type": "code",
   "execution_count": 7,
   "id": "2ca5b198",
   "metadata": {},
   "outputs": [
    {
     "name": "stdout",
     "output_type": "stream",
     "text": [
      "Hello, world!\n"
     ]
    }
   ],
   "source": [
    "def greet():\n",
    "    message = \"Hello, world!\"\n",
    "    print(message)\n",
    "\n",
    "greet()\n"
   ]
  },
  {
   "cell_type": "markdown",
   "id": "1bc6f3cd",
   "metadata": {},
   "source": [
    "Step-by-Step Explanation:    \n",
    "def greet():: This line of code defines a function named greet.    \n",
    "\n",
    "Function Definition: The def keyword is used to define a function. A function is a block of code that performs a specific task.      \n",
    "Function Name: greet is the name of the function. Function names should be descriptive and follow the same naming rules as variables.     \n",
    "Parentheses (): The parentheses are used to define parameters for the function. In this case, the function greet does not take any parameters.\n",
    "Colon :: The colon indicates the start of the function body.     \n",
    "Indentation: The lines of code inside the function are indented to show that they belong to the function.    \n",
    "\n",
    "Indentation: Python uses indentation to define blocks of code. This is important for readability and structure.    \n",
    "message = \"Hello, world!\": This line of code creates a variable named message and assigns it the string \"Hello, world!\".     \n",
    "\n",
    "Variable Assignment: As explained before, this assigns the string to the variable message.     \n",
    "print(message): This line of code uses the print function to display the value of the message variable.    \n",
    "\n",
    "Function Call: The print function is called with the variable message as its argument.     \n",
    "greet(): This line of code calls the greet function.    \n",
    "\n",
    "Function Call: To execute the code inside the function, you need to call the function by its name followed by parentheses. This will run the code inside the greet function and print \"Hello, world!\" to the screen.     \n",
    "Key Aspects:\n",
    "Functions: Functions allow you to group code into reusable blocks. They make your code more organized and modular.    \n",
    "Function Definition: Use the def keyword to define a function, followed by the function name and parentheses.    \n",
    "Function Call: To execute a function, call it by its name followed by parentheses.    \n",
    "Modularity: Functions help break down complex tasks into smaller, manageable pieces. This makes your code easier to read and maintain.     "
   ]
  },
  {
   "cell_type": "markdown",
   "id": "914358ac",
   "metadata": {},
   "source": [
    "#### Other Initial Prompts\n",
    "\n",
    "Loop:   \n",
    "\n"
   ]
  },
  {
   "cell_type": "code",
   "execution_count": 16,
   "id": "d2b4f3af",
   "metadata": {},
   "outputs": [
    {
     "name": "stdout",
     "output_type": "stream",
     "text": [
      "Hello, world!\n",
      "Hello, world!\n",
      "Hello, world!\n",
      "Hello, world!\n",
      "Hello, world!\n"
     ]
    }
   ],
   "source": [
    "for i in range(5):\n",
    "    print(\"Hello, world!\")\n"
   ]
  },
  {
   "cell_type": "markdown",
   "id": "f1578f89",
   "metadata": {},
   "source": [
    "L.O:   \n",
    "- can be used to summarise lists\n",
    "- can calculate the sum of numbers\n",
    "- can process user imput e.g continuously asking their name until they imput 'quit'."
   ]
  },
  {
   "cell_type": "markdown",
   "id": "23ad1eef",
   "metadata": {},
   "source": [
    "Lists:    "
   ]
  },
  {
   "cell_type": "code",
   "execution_count": 17,
   "id": "b3e3efe7",
   "metadata": {},
   "outputs": [
    {
     "name": "stdout",
     "output_type": "stream",
     "text": [
      "Hello, world!\n",
      "Hi there!\n",
      "Greetings!\n"
     ]
    }
   ],
   "source": [
    "messages = [\"Hello, world!\", \"Hi there!\", \"Greetings!\"]\n",
    "for message in messages:\n",
    "    print(message)\n"
   ]
  },
  {
   "cell_type": "markdown",
   "id": "e065c4e9",
   "metadata": {},
   "source": [
    "L.O:   \n",
    "- can be used to store data\n",
    "- can make information more digestable when code is run"
   ]
  },
  {
   "cell_type": "markdown",
   "id": "e5b5e40d",
   "metadata": {},
   "source": [
    "Dictionaries:   "
   ]
  },
  {
   "cell_type": "code",
   "execution_count": 18,
   "id": "83cb5bca",
   "metadata": {},
   "outputs": [
    {
     "name": "stdout",
     "output_type": "stream",
     "text": [
      "In English, we say: Hello, world!\n",
      "In Spanish, we say: ¡Hola, mundo!\n",
      "In French, we say: Bonjour, le monde!\n"
     ]
    }
   ],
   "source": [
    "greetings = {\n",
    "    \"English\": \"Hello, world!\",\n",
    "    \"Spanish\": \"¡Hola, mundo!\",\n",
    "    \"French\": \"Bonjour, le monde!\"\n",
    "}\n",
    "\n",
    "for language, greeting in greetings.items():\n",
    "    print(f\"In {language}, we say: {greeting}\")\n"
   ]
  },
  {
   "cell_type": "markdown",
   "id": "fea94236",
   "metadata": {},
   "source": [
    "L.O:    \n",
    "- can be used to map relationships betweeen data\n",
    "- each key is associated with a value allowing efficient data retrieval\n"
   ]
  },
  {
   "cell_type": "markdown",
   "id": "3ec54faf",
   "metadata": {},
   "source": [
    "Arrays:    "
   ]
  },
  {
   "cell_type": "code",
   "execution_count": 19,
   "id": "f06a0592",
   "metadata": {},
   "outputs": [
    {
     "name": "stdout",
     "output_type": "stream",
     "text": [
      "Hello, world!\n"
     ]
    }
   ],
   "source": [
    "import array\n",
    "\n",
    "# Create an array of characters\n",
    "greetings = array.array('u', ['H', 'e', 'l', 'l', 'o', ',', ' ', 'w', 'o', 'r', 'l', 'd', '!'])\n",
    "\n",
    "# Convert array to string and print\n",
    "print(greetings.tounicode())\n"
   ]
  },
  {
   "cell_type": "markdown",
   "id": "665e490f",
   "metadata": {},
   "source": [
    "L.O:    \n",
    "- can be used to collect and store data of the same type (differs from lists)\n",
    "\n",
    "Asked Copilot \" Why use arrays when you can just use lists?\"\n",
    "\n",
    "Output:   \n",
    "in summary, use arrays when you need performance and memory efficiency, especially for numerical computations. Use lists when you need flexibility and ease of use for general-purpose tasks. Both have their strengths, and the choice depends on your specific needs.\n"
   ]
  },
  {
   "cell_type": "markdown",
   "id": "e5eac206",
   "metadata": {},
   "source": [
    "Importing Libraries:"
   ]
  },
  {
   "cell_type": "code",
   "execution_count": 20,
   "id": "a15ed136",
   "metadata": {},
   "outputs": [
    {
     "name": "stdout",
     "output_type": "stream",
     "text": [
      "Hello, world! The current date and time is: 2025-04-16 05:12:13.180948\n"
     ]
    }
   ],
   "source": [
    "import datetime\n",
    "\n",
    "def greet():\n",
    "    message = \"Hello, world!\"\n",
    "    current_time = datetime.datetime.now()\n",
    "    print(f\"{message} The current date and time is: {current_time}\")\n",
    "\n",
    "greet()\n"
   ]
  },
  {
   "cell_type": "markdown",
   "id": "052953fb",
   "metadata": {},
   "source": [
    "L.O:    \n",
    "- can use prewritten code to perform tasks\n",
    "- can save time"
   ]
  },
  {
   "cell_type": "markdown",
   "id": "b2bcea6c",
   "metadata": {},
   "source": [
    "If, Else and Elif Statements:"
   ]
  },
  {
   "cell_type": "code",
   "execution_count": 21,
   "id": "85fb06b0",
   "metadata": {},
   "outputs": [
    {
     "name": "stdout",
     "output_type": "stream",
     "text": [
      "Hello, world!\n",
      "¡Hola, mundo!\n",
      "Bonjour, le monde!\n",
      "Hello, world! (default)\n"
     ]
    }
   ],
   "source": [
    "def greet(language):\n",
    "    if language == \"English\":\n",
    "        print(\"Hello, world!\")\n",
    "    elif language == \"Spanish\":\n",
    "        print(\"¡Hola, mundo!\")\n",
    "    elif language == \"French\":\n",
    "        print(\"Bonjour, le monde!\")\n",
    "    else:\n",
    "        print(\"Hello, world! (default)\")\n",
    "\n",
    "# Test the function with different languages\n",
    "greet(\"English\")\n",
    "greet(\"Spanish\")\n",
    "greet(\"French\")\n",
    "greet(\"German\")\n"
   ]
  },
  {
   "cell_type": "markdown",
   "id": "1cadef65",
   "metadata": {},
   "source": [
    "L.O:    \n",
    "- if, elif, and else statements allow you to execute different blocks of code based on conditions.   \n",
    "**if Statement**: Checks a condition and executes a block of code if the condition is true.   \n",
    "**elif Statement**: Checks another condition if the previous if condition is false.   \n",
    "**else Statement**: Executes a block of code if none of the previous conditions are true.    \n"
   ]
  },
  {
   "cell_type": "markdown",
   "id": "5d8ae259",
   "metadata": {},
   "source": [
    "Operators:"
   ]
  },
  {
   "cell_type": "code",
   "execution_count": 22,
   "id": "4af9362c",
   "metadata": {},
   "outputs": [
    {
     "name": "stdout",
     "output_type": "stream",
     "text": [
      "The sum of 5 and 3 is 8\n",
      "The product of 5 and 3 is 15\n",
      "Hello, world!\n",
      "HelloHelloHello\n"
     ]
    }
   ],
   "source": [
    "# Addition of numbers\n",
    "num1 = 5\n",
    "num2 = 3\n",
    "sum_result = num1 + num2\n",
    "print(f\"The sum of {num1} and {num2} is {sum_result}\")\n",
    "\n",
    "# Multiplication of numbers\n",
    "product_result = num1 * num2\n",
    "print(f\"The product of {num1} and {num2} is {product_result}\")\n",
    "\n",
    "# Addition of strings (concatenation)\n",
    "greeting1 = \"Hello\"\n",
    "greeting2 = \", world!\"\n",
    "full_greeting = greeting1 + greeting2\n",
    "print(full_greeting)\n",
    "\n",
    "# Multiplication of strings (repetition)\n",
    "repeat_greeting = greeting1 * 3\n",
    "print(repeat_greeting)\n"
   ]
  },
  {
   "cell_type": "markdown",
   "id": "1ce30f32",
   "metadata": {},
   "source": [
    "L.O:   \n",
    "- Operators are symbols that perform operations on variables and values. Common operators include + for addition and * for multiplication.    "
   ]
  },
  {
   "cell_type": "markdown",
   "id": "f478cc9f",
   "metadata": {},
   "source": [
    "Classes, Objects and Methods:"
   ]
  },
  {
   "cell_type": "code",
   "execution_count": 23,
   "id": "16e1d8cc",
   "metadata": {},
   "outputs": [
    {
     "name": "stdout",
     "output_type": "stream",
     "text": [
      "Hello, world!\n"
     ]
    }
   ],
   "source": [
    "class Greeter:\n",
    "    def __init__(self, message):\n",
    "        self.message = message\n",
    "\n",
    "    def greet(self):\n",
    "        print(self.message)\n",
    "\n",
    "# Create an object of the Greeter class\n",
    "greeter = Greeter(\"Hello, world!\")\n",
    "greeter.greet()\n"
   ]
  },
  {
   "cell_type": "markdown",
   "id": "a12e18db",
   "metadata": {},
   "source": [
    "L.O:    \n",
    "- Classes are blueprints for creating objects. They define the attributes and methods that the objects will have.   \n",
    "- Objects are instances of classes. They represent specific examples of the class with their own attributes and methods.    \n",
    "- Methods are functions that belong to a class. They define the behaviors of the objects.    "
   ]
  },
  {
   "cell_type": "markdown",
   "id": "bca7d910",
   "metadata": {},
   "source": [
    "Basic Python Syntax:   "
   ]
  },
  {
   "cell_type": "markdown",
   "id": "52d65005",
   "metadata": {},
   "source": [
    "L.O:     \n",
    "Key Aspects of Python Syntax:     \n",
    "Printing: Use print() to display output.    \n",
    "Variables: Dynamically typed, use descriptive names and snake_case.     \n",
    "\n",
    "Data Structures:       \n",
    "Lists: Ordered, mutable collections.    \n",
    "Tuples: Ordered, immutable collections.     \n",
    "Dictionaries: Key-value pairs, keys must be unique and immutable.    \n",
    "\n",
    "Control Flow:    \n",
    "If Statements: Conditional execution.    \n",
    "For Loops: Iterates over sequences.   \n",
    "While Loops: Executes as long as a condition is true.\n",
    "Functions: Defined using def, reusable blocks of code.   \n",
    "\n",
    "Key Aspects of PEP 8 (Python Style Guide):    \n",
    "Indentation: Use 4 spaces per level.   \n",
    "Line Length: Limit to 79 characters.       \n",
    "Blank Lines: Separate functions, classes, and larger code blocks.    \n",
    "Imports: Group in order: standard library, third-party, local.    "
   ]
  },
  {
   "cell_type": "markdown",
   "id": "02dbd41d",
   "metadata": {},
   "source": [
    "Simplicity, Security and Inclusion:"
   ]
  },
  {
   "cell_type": "markdown",
   "id": "8b200742",
   "metadata": {},
   "source": [
    "Simplicity:"
   ]
  },
  {
   "cell_type": "code",
   "execution_count": 24,
   "id": "e38874a7",
   "metadata": {},
   "outputs": [
    {
     "name": "stdout",
     "output_type": "stream",
     "text": [
      "Hello, World!\n"
     ]
    }
   ],
   "source": [
    "print(\"Hello, World!\")\n"
   ]
  },
  {
   "cell_type": "markdown",
   "id": "1c283531",
   "metadata": {},
   "source": [
    "Simplicity is achieved by using minimal code, making it easy for beginners to understand.    "
   ]
  },
  {
   "cell_type": "markdown",
   "id": "71b0a11a",
   "metadata": {},
   "source": [
    "Security:"
   ]
  },
  {
   "cell_type": "code",
   "execution_count": 25,
   "id": "e8feff5b",
   "metadata": {},
   "outputs": [
    {
     "name": "stdout",
     "output_type": "stream",
     "text": [
      "Hello, World!\n"
     ]
    }
   ],
   "source": [
    "def safe_print(message):\n",
    "    if isinstance(message, str):\n",
    "        print(message)\n",
    "    else:\n",
    "        print(\"Invalid input. Please provide a string.\")\n",
    "\n",
    "user_input = \"Hello, World!\"\n",
    "safe_print(user_input)\n"
   ]
  },
  {
   "cell_type": "markdown",
   "id": "6553246e",
   "metadata": {},
   "source": [
    "Security is emphasized by validating the input type, preventing potential issues from unexpected input."
   ]
  },
  {
   "cell_type": "markdown",
   "id": "e2eb75c0",
   "metadata": {},
   "source": [
    "Inclusion:"
   ]
  },
  {
   "cell_type": "code",
   "execution_count": 26,
   "id": "7a76c2ce",
   "metadata": {},
   "outputs": [
    {
     "name": "stdout",
     "output_type": "stream",
     "text": [
      "Hello, World!\n"
     ]
    }
   ],
   "source": [
    "def greet(language):\n",
    "    greetings = {\n",
    "        \"en\": \"Hello, World!\",\n",
    "        \"es\": \"¡Hola, Mundo!\",\n",
    "        \"fr\": \"Bonjour, le Monde!\",\n",
    "        \"jp\": \"こんにちは、世界！\"\n",
    "    }\n",
    "    print(greetings.get(language, \"Hello, World!\"))\n",
    "\n",
    "greet(\"en\")  # Change the language code to test different greetings\n"
   ]
  },
  {
   "cell_type": "markdown",
   "id": "f95e46e6",
   "metadata": {},
   "source": [
    "Inclusion is highlighted by supporting multiple languages, making the program accessible to a broader audience.   \n",
    "\n",
    "L.O:     \n",
    "- Simplicity: Minimal code for ease of understanding.   \n",
    "- Security: Input validation to prevent potential issues.   \n",
    "- Inclusion: Support for multiple languages to accommodate diverse users.    "
   ]
  }
 ],
 "metadata": {
  "kernelspec": {
   "display_name": "Python 3",
   "language": "python",
   "name": "python3"
  },
  "language_info": {
   "codemirror_mode": {
    "name": "ipython",
    "version": 3
   },
   "file_extension": ".py",
   "mimetype": "text/x-python",
   "name": "python",
   "nbconvert_exporter": "python",
   "pygments_lexer": "ipython3",
   "version": "3.12.1"
  }
 },
 "nbformat": 4,
 "nbformat_minor": 5
}
