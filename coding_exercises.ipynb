{
 "cells": [
  {
   "cell_type": "markdown",
   "id": "ce6e96ec",
   "metadata": {},
   "source": [
    "# Coding Exercises Notebook\n",
    "\n",
    "This notebook is for my AI for the Arts and Humanities course. It will be used to help me understand how Python, Copilot and coding as a whoe work.\n",
    "\n",
    "- Learn basic code in Python\n",
    "- Improve what little coding knowledge I have already\n",
    "- Improve my confidence in coding so I can do it independantly. "
   ]
  },
  {
   "cell_type": "markdown",
   "id": "31550d48",
   "metadata": {},
   "source": [
    "# Hello, World!\n",
    "\n",
    "The following code was created as my first attempt at\n",
    "programming in this course. It is meant to help me understand how to write and run code in GitHub Codespaces."
   ]
  },
  {
   "cell_type": "code",
   "execution_count": 5,
   "id": "a76bb14c",
   "metadata": {},
   "outputs": [
    {
     "name": "stdout",
     "output_type": "stream",
     "text": [
      "Hello, World!\n"
     ]
    }
   ],
   "source": [
    "print(\"Hello, World!\")"
   ]
  },
  {
   "cell_type": "markdown",
   "id": "ccee5ba3",
   "metadata": {},
   "source": [
    "# Printing"
   ]
  },
  {
   "cell_type": "markdown",
   "id": "01a6ad20",
   "metadata": {},
   "source": [
    "## Understanding Code"
   ]
  },
  {
   "cell_type": "markdown",
   "id": "6f3ef94a",
   "metadata": {},
   "source": [
    "#### Variables\n",
    "\n",
    "Initial Prompt:   \n",
    "Could you suggest a modification of the Python code for “Hello, world!” to demonstrate the concept of variables to a complete beginner in programming? Please explain the code step-by-step highlighting any key aspects.  \n",
    "\n",
    "Prompts suggested by Copiliot:   \n",
    "\n"
   ]
  },
  {
   "cell_type": "code",
   "execution_count": 6,
   "id": "0041b2cb",
   "metadata": {},
   "outputs": [
    {
     "name": "stdout",
     "output_type": "stream",
     "text": [
      "Hello, world!\n"
     ]
    }
   ],
   "source": [
    "\n",
    "message = \"Hello, world!\"\n",
    "print(message)\n"
   ]
  },
  {
   "cell_type": "markdown",
   "id": "9bfc8075",
   "metadata": {},
   "source": [
    "Step-by-Step Explanation:   \n",
    "message = \"Hello, world!\": This line of code creates a variable named message and assigns it the string \"Hello, world!\".   \n",
    "\n",
    "Variable: A variable is a name that refers to a value. In this case, message is the variable name.\n",
    "Assignment (=): The = sign is used to assign a value to a variable. Here, the string \"Hello, world!\" is assigned to the variable message.    \n",
    "String: As before, \"Hello, world!\" is a sequence of characters enclosed in quotes.    \n",
    "print(message): This line of code uses the print function to display the value of the message variable.    \n",
    "\n",
    "Function Call: The print function is called with the variable message as its argument.    \n",
    "Variable Usage: Instead of directly printing the string, we print the value stored in the variable message.      \n",
    "Key Aspects:     \n",
    "Variables: Variables allow you to store and reuse values. They make your code more flexible and easier to manage.    \n",
    "Naming: Variable names should be descriptive and follow certain rules. They must start with a letter or underscore (_), and can contain letters, numbers, and underscores. For example, message is a valid variable name.    \n",
    "Reusability: By using variables, you can easily change the value in one place and have it reflected throughout your code. This is useful for managing data and making your code more dynamic.     "
   ]
  },
  {
   "cell_type": "markdown",
   "id": "a57fc7f0",
   "metadata": {},
   "source": [
    "#### Functions    \n",
    "\n",
    "Intial prompt:    \n",
    "Could you suggest a modification of the Python code for “Hello, world!” to demonstrate the concept of functions to a complete beginner in programming Please explain the code step-by-step highlighting any key aspects.    \n",
    "\n",
    "Prompts suggested by Copilot:    "
   ]
  },
  {
   "cell_type": "code",
   "execution_count": 7,
   "id": "2ca5b198",
   "metadata": {},
   "outputs": [
    {
     "name": "stdout",
     "output_type": "stream",
     "text": [
      "Hello, world!\n"
     ]
    }
   ],
   "source": [
    "def greet():\n",
    "    message = \"Hello, world!\"\n",
    "    print(message)\n",
    "\n",
    "greet()\n"
   ]
  },
  {
   "cell_type": "markdown",
   "id": "1bc6f3cd",
   "metadata": {},
   "source": [
    "Step-by-Step Explanation:    \n",
    "def greet():: This line of code defines a function named greet.    \n",
    "\n",
    "Function Definition: The def keyword is used to define a function. A function is a block of code that performs a specific task.      \n",
    "Function Name: greet is the name of the function. Function names should be descriptive and follow the same naming rules as variables.     \n",
    "Parentheses (): The parentheses are used to define parameters for the function. In this case, the function greet does not take any parameters.\n",
    "Colon :: The colon indicates the start of the function body.     \n",
    "Indentation: The lines of code inside the function are indented to show that they belong to the function.    \n",
    "\n",
    "Indentation: Python uses indentation to define blocks of code. This is important for readability and structure.    \n",
    "message = \"Hello, world!\": This line of code creates a variable named message and assigns it the string \"Hello, world!\".     \n",
    "\n",
    "Variable Assignment: As explained before, this assigns the string to the variable message.     \n",
    "print(message): This line of code uses the print function to display the value of the message variable.    \n",
    "\n",
    "Function Call: The print function is called with the variable message as its argument.     \n",
    "greet(): This line of code calls the greet function.    \n",
    "\n",
    "Function Call: To execute the code inside the function, you need to call the function by its name followed by parentheses. This will run the code inside the greet function and print \"Hello, world!\" to the screen.     \n",
    "Key Aspects:\n",
    "Functions: Functions allow you to group code into reusable blocks. They make your code more organized and modular.    \n",
    "Function Definition: Use the def keyword to define a function, followed by the function name and parentheses.    \n",
    "Function Call: To execute a function, call it by its name followed by parentheses.    \n",
    "Modularity: Functions help break down complex tasks into smaller, manageable pieces. This makes your code easier to read and maintain.     "
   ]
  },
  {
   "cell_type": "markdown",
   "id": "914358ac",
   "metadata": {},
   "source": [
    "#### Other Initial Prompts\n",
    "\n",
    "Loop:   \n",
    "\n"
   ]
  },
  {
   "cell_type": "code",
   "execution_count": 8,
   "id": "d2b4f3af",
   "metadata": {},
   "outputs": [
    {
     "name": "stdout",
     "output_type": "stream",
     "text": [
      "Hello, world!\n",
      "Hello, world!\n",
      "Hello, world!\n",
      "Hello, world!\n",
      "Hello, world!\n"
     ]
    }
   ],
   "source": [
    "for i in range(5):\n",
    "    print(\"Hello, world!\")\n"
   ]
  },
  {
   "cell_type": "markdown",
   "id": "f1578f89",
   "metadata": {},
   "source": [
    "L.O:   \n",
    "- can be used to summarise lists\n",
    "- can calculate the sum of numbers\n",
    "- can process user imput e.g continuously asking their name until they imput 'quit'."
   ]
  },
  {
   "cell_type": "markdown",
   "id": "23ad1eef",
   "metadata": {},
   "source": [
    "Lists:    "
   ]
  },
  {
   "cell_type": "code",
   "execution_count": 9,
   "id": "b3e3efe7",
   "metadata": {},
   "outputs": [
    {
     "name": "stdout",
     "output_type": "stream",
     "text": [
      "Hello, world!\n",
      "Hi there!\n",
      "Greetings!\n"
     ]
    }
   ],
   "source": [
    "messages = [\"Hello, world!\", \"Hi there!\", \"Greetings!\"]\n",
    "for message in messages:\n",
    "    print(message)\n"
   ]
  },
  {
   "cell_type": "markdown",
   "id": "e065c4e9",
   "metadata": {},
   "source": [
    "L.O:   \n",
    "- can be used to store data\n",
    "- can make information more digestable when code is run"
   ]
  },
  {
   "cell_type": "markdown",
   "id": "e5b5e40d",
   "metadata": {},
   "source": [
    "Dictionaries:   "
   ]
  },
  {
   "cell_type": "code",
   "execution_count": null,
   "id": "83cb5bca",
   "metadata": {},
   "outputs": [],
   "source": []
  }
 ],
 "metadata": {
  "kernelspec": {
   "display_name": "Python 3",
   "language": "python",
   "name": "python3"
  },
  "language_info": {
   "codemirror_mode": {
    "name": "ipython",
    "version": 3
   },
   "file_extension": ".py",
   "mimetype": "text/x-python",
   "name": "python",
   "nbconvert_exporter": "python",
   "pygments_lexer": "ipython3",
   "version": "3.12.1"
  }
 },
 "nbformat": 4,
 "nbformat_minor": 5
}
