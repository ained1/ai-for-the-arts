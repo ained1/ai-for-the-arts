{
 "cells": [
  {
   "cell_type": "markdown",
   "id": "ce6e96ec",
   "metadata": {},
   "source": [
    "# Coding Exercises Notebook\n",
    "\n",
    "This notebook is for my AI for the Arts and Humanities course. It will be used to help me understand how Python, Copilot and coding as a whoe work.\n",
    "\n",
    "- Learn basic code in Python\n",
    "- Improve what little coding knowledge I have already\n",
    "- Improve my confidence in coding so I can do it independantly. "
   ]
  },
  {
   "cell_type": "markdown",
   "id": "31550d48",
   "metadata": {},
   "source": [
    "# Hello, World!\n",
    "\n",
    "The following code was created as my first attempt at\n",
    "programming in this course. It is meant to help me understand how to write and run code in GitHub Codespaces."
   ]
  },
  {
   "cell_type": "code",
   "execution_count": 1,
   "id": "a76bb14c",
   "metadata": {},
   "outputs": [
    {
     "name": "stdout",
     "output_type": "stream",
     "text": [
      "Hello, World!\n"
     ]
    }
   ],
   "source": [
    "print(\"Hello, World!\")"
   ]
  }
 ],
 "metadata": {
  "kernelspec": {
   "display_name": "Python 3",
   "language": "python",
   "name": "python3"
  },
  "language_info": {
   "codemirror_mode": {
    "name": "ipython",
    "version": 3
   },
   "file_extension": ".py",
   "mimetype": "text/x-python",
   "name": "python",
   "nbconvert_exporter": "python",
   "pygments_lexer": "ipython3",
   "version": "3.12.1"
  }
 },
 "nbformat": 4,
 "nbformat_minor": 5
}
